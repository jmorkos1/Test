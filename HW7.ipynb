{
  "nbformat": 4,
  "nbformat_minor": 0,
  "metadata": {
    "colab": {
      "name": "HW7.ipynb",
      "provenance": [],
      "collapsed_sections": [],
      "authorship_tag": "ABX9TyPeLnILu+0h8LOWINHPElb0",
      "include_colab_link": true
    },
    "kernelspec": {
      "name": "python3",
      "display_name": "Python 3"
    },
    "language_info": {
      "name": "python"
    }
  },
  "cells": [
    {
      "cell_type": "markdown",
      "metadata": {
        "id": "view-in-github",
        "colab_type": "text"
      },
      "source": [
        "<a href=\"https://colab.research.google.com/github/jmorkos1/Test/blob/main/HW7.ipynb\" target=\"_parent\"><img src=\"https://colab.research.google.com/assets/colab-badge.svg\" alt=\"Open In Colab\"/></a>"
      ]
    },
    {
      "cell_type": "code",
      "metadata": {
        "id": "a3wo1Pzao-bc"
      },
      "source": [
        "import pandas as pd\n",
        "import numpy as np\n",
        "from sklearn.linear_model import LinearRegression"
      ],
      "execution_count": null,
      "outputs": []
    },
    {
      "cell_type": "code",
      "metadata": {
        "colab": {
          "base_uri": "https://localhost:8080/"
        },
        "id": "D7_ufd7zqZ_2",
        "outputId": "4f5844ad-e98d-453f-ef4b-fcdc109d0210"
      },
      "source": [
        "data=pd.read_csv(\"https://raw.githubusercontent.com/ds4ph-bme/assignment-7-jmorkos1/main/BMIData.txt?token=APNF3JCYV5A4QCPSG24OOYLAPOJRQ\")\n",
        "print(data.columns)\n",
        "\n"
      ],
      "execution_count": null,
      "outputs": [
        {
          "output_type": "stream",
          "text": [
            "Index(['pptid', 'clinic', 'Waist', 'COPD15', 'ASTHMA15', 'slp_lat', 'time_bed',\n",
            "       'timest1p', 'timest2p', 'times34p', 'timeremp', 'rdi4p', 'StLOutP',\n",
            "       'StOnsetP', 'SlpPrdP', 'Staging1', 'Staging2', 'Staging3', 'Staging4',\n",
            "       'Staging5', 'RestAn1', 'RestAn2', 'RestAn3', 'RestAn4', 'HTN', 'CVD',\n",
            "       'CHD', 'sex', 'age', 'smokstatus', 'bmi'],\n",
            "      dtype='object')\n"
          ],
          "name": "stdout"
        }
      ]
    },
    {
      "cell_type": "code",
      "metadata": {
        "colab": {
          "base_uri": "https://localhost:8080/"
        },
        "id": "jIscb29FqkH-",
        "outputId": "df65a51b-9343-46ef-8885-28091cd8696b"
      },
      "source": [
        "data['rdi4pfinal']=np.log(data['rdi4p']+1)\n",
        "data['rdi4pfinal']=pd.to_numeric(data['rdi4pfinal'], errors='coerce')\n",
        "answer=data['rdi4pfinal']\n",
        "data['bmi']=pd.to_numeric(data['bmi'], errors='coerce')\n",
        "mean_BMI=np.mean(data['bmi'])\n",
        "data['newbmi']=data['bmi']-mean_BMI\n",
        "data['sex']=pd.to_numeric(data['sex'], errors='coerce')\n",
        "data['age']=pd.to_numeric(data['age'], errors='coerce')\n",
        "data['Waist']=pd.to_numeric(data['Waist'], errors='coerce')\n",
        "full_data=pd.DataFrame(data[['newbmi','sex','age','Waist', 'rdi4pfinal']])\n",
        "full_data=full_data.dropna()\n",
        "new_data=pd.DataFrame(full_data[['newbmi']])\n",
        "\n",
        "\n",
        "reg=LinearRegression().fit(new_data, full_data['rdi4pfinal'])\n",
        "reg.coef_"
      ],
      "execution_count": null,
      "outputs": [
        {
          "output_type": "execute_result",
          "data": {
            "text/plain": [
              "array([0.07104583])"
            ]
          },
          "metadata": {
            "tags": []
          },
          "execution_count": 64
        }
      ]
    },
    {
      "cell_type": "code",
      "metadata": {
        "colab": {
          "base_uri": "https://localhost:8080/"
        },
        "id": "vGkBlljDx8Mw",
        "outputId": "cf72f639-e2ff-4bd5-bf8a-ee61da7df518"
      },
      "source": [
        "m=np.array(30-mean_BMI)\n",
        "m=m.reshape(-1,1)\n",
        "final=reg.predict(m)\n",
        "final_answer=np.exp(final)-1\n",
        "final_answer"
      ],
      "execution_count": null,
      "outputs": [
        {
          "output_type": "execute_result",
          "data": {
            "text/plain": [
              "array([5.25130561])"
            ]
          },
          "metadata": {
            "tags": []
          },
          "execution_count": 74
        }
      ]
    }
  ]
}